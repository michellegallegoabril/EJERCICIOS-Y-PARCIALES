{
  "nbformat": 4,
  "nbformat_minor": 0,
  "metadata": {
    "colab": {
      "provenance": [],
      "include_colab_link": true
    },
    "kernelspec": {
      "name": "python3",
      "display_name": "Python 3"
    },
    "language_info": {
      "name": "python"
    }
  },
  "cells": [
    {
      "cell_type": "markdown",
      "metadata": {
        "id": "view-in-github",
        "colab_type": "text"
      },
      "source": [
        "<a href=\"https://colab.research.google.com/github/michellegallegoabril/EJERCICIOS-Y-PARCIALES/blob/main/Parcial_1_2023_2.ipynb\" target=\"_parent\"><img src=\"https://colab.research.google.com/assets/colab-badge.svg\" alt=\"Open In Colab\"/></a>"
      ]
    },
    {
      "cell_type": "code",
      "execution_count": null,
      "metadata": {
        "colab": {
          "base_uri": "https://localhost:8080/",
          "height": 39
        },
        "id": "QrVvdB4Ip0vv",
        "outputId": "9700fa5c-0b9b-4ba9-f0f8-9e1fe703c1f8"
      },
      "outputs": [
        {
          "output_type": "execute_result",
          "data": {
            "text/plain": [
              "7⋅sin(4⋅t - 0.5⋅π) - 2⋅cos(5⋅t) + 2⋅cos(10⋅t)"
            ],
            "text/latex": "$\\displaystyle 7 \\sin{\\left(4 t - 0.5 \\pi \\right)} - 2 \\cos{\\left(5 t \\right)} + 2 \\cos{\\left(10 t \\right)}$"
          },
          "metadata": {},
          "execution_count": 2
        }
      ],
      "source": [
        "%matplotlib inline\n",
        "import sympy as sym\n",
        "sym.init_printing() #se inicializa para mostrar en pantalla\n",
        "\n",
        "t = sym.symbols('t', real=True)#se declara la variable simbólica t\n",
        "x = 7*sym.sin(4*t - 0.5*sym.pi) - 2*sym.cos(5*t) + 2*sym.cos(10*t)#señal a simular\n",
        "x"
      ]
    }
  ]
}