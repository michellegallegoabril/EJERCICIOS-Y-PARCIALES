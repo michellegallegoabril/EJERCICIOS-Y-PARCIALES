{
  "nbformat": 4,
  "nbformat_minor": 0,
  "metadata": {
    "colab": {
      "provenance": [],
      "include_colab_link": true
    },
    "kernelspec": {
      "name": "python3",
      "display_name": "Python 3"
    },
    "language_info": {
      "name": "python"
    }
  },
  "cells": [
    {
      "cell_type": "markdown",
      "metadata": {
        "id": "view-in-github",
        "colab_type": "text"
      },
      "source": [
        "<a href=\"https://colab.research.google.com/github/michellegallegoabril/EJERCICIOS-Y-PARCIALES/blob/main/Tareas_Fourier.ipynb\" target=\"_parent\"><img src=\"https://colab.research.google.com/assets/colab-badge.svg\" alt=\"Open In Colab\"/></a>"
      ]
    },
    {
      "cell_type": "code",
      "execution_count": 4,
      "metadata": {
        "colab": {
          "base_uri": "https://localhost:8080/"
        },
        "id": "PTLbZ7Ww7tuz",
        "outputId": "a440e21a-de28-49e2-b6a9-eb9691c674ec"
      },
      "outputs": [
        {
          "output_type": "stream",
          "name": "stdout",
          "text": [
            "a0 = \n",
            "0.500000000000000\n",
            "an = \n",
            "⎧    2.0       for n = 0\n",
            "⎪                       \n",
            "⎪       ⎛π⋅n⎞           \n",
            "⎨4.0⋅sin⎜───⎟           \n",
            "⎪       ⎝ 2 ⎠           \n",
            "⎪────────────  otherwise\n",
            "⎩    π⋅n                \n"
          ]
        }
      ],
      "source": [
        "# Importar librerías\n",
        "import sympy as sym\n",
        "\n",
        "# Definir variables simbólicas\n",
        "n = sym.symbols(\"n\", real=True)\n",
        "t = sym.symbols(\"t\", real=True)\n",
        "T = sym.symbols(\"T\", real=True)\n",
        "\n",
        "# Definir función periódica\n",
        "Tmin = -1/4  # Definimos el límite mínimo del período\n",
        "Tmax = 1/4  # Definimos el límite máximo del período\n",
        "\n",
        "T = 1  # Definimos el período\n",
        "wo = (2 * sym.pi) / T  # Definimos el omega\n",
        "\n",
        "f = sym.Heaviside(t + 1/4) - sym.Heaviside(t - 1/4)  # Definimos la función\n",
        "\n",
        "# Calculamos los coeficientes de Fourier\n",
        "f_integrar = f  # Función que vamos a integrar\n",
        "a0 = (1 / T) * sym.integrate(f_integrar, (t, Tmin, Tmax))  # Hallamos a0\n",
        "print(\"a0 = \")\n",
        "sym.pprint(a0)  # Imprimir desde SymPy\n",
        "\n",
        "# Calculamos la integral para an\n",
        "f_integrar = f * sym.cos(n * wo * t)\n",
        "an = (4 / T) * sym.integrate(f_integrar, (t, Tmin, Tmax))\n",
        "an = sym.simplify(an)\n",
        "print(\"an = \")\n",
        "sym.pprint(an)\n"
      ]
    },
    {
      "cell_type": "code",
      "source": [
        "#Importar librerías\n",
        "import numpy as np\n",
        "import matplotlib.pyplot as plt\n",
        "import sympy as sym\n",
        "\n",
        "\n",
        "#Definir variables simbolicas\n",
        "\n",
        "n= sym.symbols(\"n \",real=True)\n",
        "t= sym.symbols(\"t \",real=True)\n",
        "T= sym.symbols(\"T \",real=True)\n",
        "\n",
        "#Definir función periódica\n",
        "#Tmin = -1/4 #definimos el limite min periodo\n",
        "#Tmax = 1/4 #definimos el limite max periodo\n",
        "\n",
        "T = 1 #Definimos el periodo\n",
        "wo=(2*np.pi)/T #Definimos el omega\n",
        "\n",
        "f=sym.Heaviside(t+1/4)-sym.Heaviside(t-1/4) #Definimos la función\n",
        "\n",
        "#Calculamos los coeficientes de fourier\n",
        "\n",
        "f_integrar = f #Funcion que vamos a integrar\n",
        "a0 = (1/T)*sym.integrate(f_integrar,(t,-T/4,T/4)) #hallamos a0\n",
        "print(\"a0= \")\n",
        "sym.pprint(a0) #imprimir desde sympy\n",
        "\n",
        "#calculamos la integral para an\n",
        "f_integrar = f*sym.cos(n*wo*t)\n",
        "an= (4/T)*sym.integrate(f_integrar,(t, 0, T/4))\n",
        "an= sym.simplify(an)\n",
        "print(\"an = \")\n",
        "sym.pprint(an)\n"
      ],
      "metadata": {
        "colab": {
          "base_uri": "https://localhost:8080/"
        },
        "id": "g6QbVHzK9T5j",
        "outputId": "85920920-5af5-4f6a-be5e-b96c51d1e9fb"
      },
      "execution_count": 5,
      "outputs": [
        {
          "output_type": "stream",
          "name": "stdout",
          "text": [
            "a0= \n",
            "0.500000000000000\n",
            "an = \n",
            "⎧                  1.0                     for n = 0\n",
            "⎪                                                   \n",
            "⎨0.636619772367581⋅sin(1.5707963267949⋅n)           \n",
            "⎪────────────────────────────────────────  otherwise\n",
            "⎩                   n                               \n"
          ]
        }
      ]
    },
    {
      "cell_type": "code",
      "execution_count": 6,
      "metadata": {
        "colab": {
          "base_uri": "https://localhost:8080/",
          "height": 750
        },
        "id": "mlH739ycSgVT",
        "outputId": "39c5e04e-4e59-4aeb-ec32-c19272996d29"
      },
      "outputs": [
        {
          "output_type": "stream",
          "name": "stdout",
          "text": [
            "a0= \n",
            "1.00000000000000\n",
            "an = \n",
            "⎧                  1.0                     for n = 0\n",
            "⎪                                                   \n",
            "⎨0.636619772367581⋅sin(1.5707963267949⋅n)           \n",
            "⎪────────────────────────────────────────  otherwise\n",
            "⎩                   n                               \n",
            "bn = \n",
            "0\n",
            "f(t)= \n",
            "0.636619772367581⋅cos(6.28318530717959⋅t) - 0.212206590789194⋅cos(18.849555921\n",
            "5388⋅t) + 0.127323954473516⋅cos(31.4159265358979⋅t) - 0.0909456817667973⋅cos(4\n",
            "3.9822971502571⋅t) + 0.0707355302630646⋅cos(56.5486677646163⋅t) - 0.0578745247\n",
            "606892⋅cos(69.1150383789754⋅t) + 0.0489707517205832⋅cos(81.6814089933346⋅t) - \n",
            "0.0424413181578388⋅cos(94.2477796076938⋅t) + 0.5\n"
          ]
        },
        {
          "output_type": "display_data",
          "data": {
            "text/plain": [
              "<Figure size 640x480 with 1 Axes>"
            ],
            "image/png": "[encoded data removed]"
          },
          "metadata": {}
        }
      ],
      "source": [
        "\n",
        "#Importar librerías\n",
        "import numpy as np\n",
        "import matplotlib.pyplot as plt\n",
        "import sympy as sym\n",
        "\n",
        "#Definir variables simbolicas\n",
        "\n",
        "n= sym.symbols(\"n \",real=True)\n",
        "t= sym.symbols(\"t \",real=True)\n",
        "\n",
        "#Definir función periódica\n",
        "Tmin = -1/2\n",
        "Tmax = 1/2\n",
        "T =  Tmax - Tmin #Definimos el periodo\n",
        "wo=(2*np.pi)/T #Definimos el omega\n",
        "\n",
        "x=sym.Heaviside(t+1/4)-sym.Heaviside(t-1/4) #Definimos la función\n",
        "\n",
        "#Calculamos los coeficientes de fourier\n",
        "\n",
        "f_integrar = x #Funcion que vamos a integrar\n",
        "a0 = (2/T)*(sym.integrate(f_integrar,(t,-1/4,1/4))) #hallamos a0\n",
        "print(\"a0= \")\n",
        "sym.pprint(a0) #imprimir desde sympy\n",
        "\n",
        "#calculamos la integral para an\n",
        "f_integrar = x*sym.cos(n*wo*t) #Funcion que vamos a integrar\n",
        "an= (4/T)*sym.integrate(f_integrar,(t,0,1/4)) #hallamos an\n",
        "an= sym.simplify(an)\n",
        "print(\"an = \")\n",
        "sym.pprint(an)\n",
        "\n",
        "#calculamos la integral para bn\n",
        "f_integrar = x*sym.sin(n*wo*t) #Funcion que vamos a integrar\n",
        "bn= (2/T)*sym.integrate(f_integrar,(t,-1/4,1/4)) #hallamos bn\n",
        "bn= sym.simplify(bn)\n",
        "print(\"bn = \")\n",
        "sym.pprint(bn)\n",
        "\n",
        "#Usando los coeficientes, representamos la expansión en series de Fourier\n",
        "\n",
        "#Definimos el número de armónicos para la expansión\n",
        "serie = 0\n",
        "Armonicos = 15\n",
        "\n",
        "for i in range(1, Armonicos+1):\n",
        "\n",
        "  an_c = an.subs(n,i)\n",
        "  if abs(an_c) <0.0001: an_c = 0 #Términos coseno de la serie\n",
        "\n",
        "  serie= serie + an_c*sym.cos(i*wo*t)\n",
        "\n",
        "\n",
        "serie= a0/2 + serie #Expansión final de la serie\n",
        "\n",
        "print(\"f(t)= \")\n",
        "sym.pprint(serie)\n",
        "\n",
        "#Graficamos la función periódica original y su expansión en series de Fourier\n",
        "\n",
        "# Convertimos la expresión Sympy a una función evaluable\n",
        "fserie = sym.lambdify(t,serie)\n",
        "f=sym.lambdify(t,x)\n",
        "\n",
        "#Creamos un vector de tiempo para la gráfica\n",
        "v_tiempo= np.linspace(Tmin, Tmax, 50)\n",
        "\n",
        "#Evaluamos las funciones\n",
        "fserieG= fserie(v_tiempo)\n",
        "fG= f(v_tiempo)\n",
        "\n",
        "plt.plot(v_tiempo, fG, label = \"f(t)\")\n",
        "plt.plot(v_tiempo, fserieG, label= \"Expansión\")\n",
        "\n",
        "plt.xlabel(\"tiempo\")\n",
        "plt.legend()\n",
        "plt.title(\"Expansion en series de Fourier\")\n",
        "plt.show()\n",
        "\n",
        "\n"
      ]
    }
  ]
}